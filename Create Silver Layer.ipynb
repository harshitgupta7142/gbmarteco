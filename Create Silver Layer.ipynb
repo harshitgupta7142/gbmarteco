{
 "cells": [
  {
   "cell_type": "code",
   "execution_count": 0,
   "metadata": {
    "application/vnd.databricks.v1+cell": {
     "cellMetadata": {
      "byteLimit": 2048000,
      "rowLimit": 10000
     },
     "inputWidgets": {},
     "nuid": "30635b0f-47de-4375-83e0-2e1a98949f87",
     "showTitle": false,
     "tableResultSettingsMap": {},
     "title": ""
    }
   },
   "outputs": [],
   "source": [
    "tables_df = spark.sql(\"SHOW TABLES IN harshit_gupta_databricks_npmentorskool_onmicrosoft_com.gbmartecoschema\")\n",
    "display(tables_df)\n",
    "\n",
    "for row in tables_df.collect():\n",
    "    table_name = row['tableName']\n",
    "    df_name = f\"{table_name}_df\"\n",
    "    globals()[df_name] = spark.table(f\"harshit_gupta_databricks_npmentorskool_onmicrosoft_com.gbmartecoschema.{table_name}\")"
   ]
  },
  {
   "cell_type": "code",
   "execution_count": 0,
   "metadata": {
    "application/vnd.databricks.v1+cell": {
     "cellMetadata": {
      "byteLimit": 2048000,
      "rowLimit": 10000
     },
     "inputWidgets": {},
     "nuid": "ec9b2175-8141-4fec-b9ce-3d70cb62b02a",
     "showTitle": false,
     "tableResultSettingsMap": {},
     "title": ""
    }
   },
   "outputs": [],
   "source": [
    "display(addresses_df)"
   ]
  },
  {
   "cell_type": "code",
   "execution_count": 0,
   "metadata": {
    "application/vnd.databricks.v1+cell": {
     "cellMetadata": {
      "byteLimit": 2048000,
      "rowLimit": 10000
     },
     "inputWidgets": {},
     "nuid": "464d6176-ff37-44e8-8dfe-dc83dcd4c994",
     "showTitle": false,
     "tableResultSettingsMap": {},
     "title": ""
    }
   },
   "outputs": [],
   "source": [
    "from pyspark.sql.functions import regexp_replace\n",
    "\n",
    "addresses_df = addresses_df.withColumn('AddressLine1', (regexp_replace(regexp_replace(regexp_replace('AddressLine1', '\\n', ', '),'_',' '),'-',' ')))\n",
    "addresses_df = addresses_df.withColumn('AddressType', regexp_replace('AddressType', '_', ' '))\n",
    "addresses_df = addresses_df.withColumn('State', regexp_replace('State', '_', ' '))\n",
    "display(addresses_df)"
   ]
  },
  {
   "cell_type": "code",
   "execution_count": 0,
   "metadata": {
    "application/vnd.databricks.v1+cell": {
     "cellMetadata": {
      "byteLimit": 2048000,
      "rowLimit": 10000
     },
     "inputWidgets": {},
     "nuid": "fb810c17-ef6c-4369-94ec-fc7c99683b04",
     "showTitle": false,
     "tableResultSettingsMap": {},
     "title": ""
    }
   },
   "outputs": [],
   "source": [
    "for df_name in ['addresses_df', 'customers_df', 'orders_df', 'orders_items_df', 'payment_methods_df', 'payments_df', 'products_df', 'returns_df', 'shipping_tier_df', 'suppliers_df']:\n",
    "    df = globals()[df_name]\n",
    "    display(\n",
    "        df.select([\n",
    "            df[c].isNull().cast(\"int\").alias(c)\n",
    "            for c in df.columns\n",
    "        ]).groupBy().sum()\n",
    "    )"
   ]
  },
  {
   "cell_type": "code",
   "execution_count": 0,
   "metadata": {
    "application/vnd.databricks.v1+cell": {
     "cellMetadata": {
      "byteLimit": 2048000,
      "rowLimit": 10000
     },
     "inputWidgets": {},
     "nuid": "26a0bc3e-4f18-4b14-a066-0cdbdafab894",
     "showTitle": false,
     "tableResultSettingsMap": {},
     "title": ""
    }
   },
   "outputs": [],
   "source": [
    "# in product -> if there is null values \n",
    "products_df = products_df.fillna({\n",
    "    'Product_Rating': 0,\n",
    "    'Number_of_product_ratings': 0,\n",
    "    'Discounted_Price': 0,\n",
    "    'Actual_Price': 0\n",
    "})\n",
    "display(products_df)"
   ]
  },
  {
   "cell_type": "code",
   "execution_count": 0,
   "metadata": {
    "application/vnd.databricks.v1+cell": {
     "cellMetadata": {
      "byteLimit": 2048000,
      "rowLimit": 10000
     },
     "inputWidgets": {},
     "nuid": "ac0dd90a-d273-4e60-af4c-974d431b6523",
     "showTitle": false,
     "tableResultSettingsMap": {},
     "title": ""
    }
   },
   "outputs": [],
   "source": [
    "products_df = products_df.dropna(\n",
    "    subset=[\n",
    "        'Product_Rating',\n",
    "        'Number_of_product_ratings',\n",
    "        'Discounted_Price',\n",
    "        'Actual_Price'\n",
    "    ]\n",
    ")\n",
    "display(products_df)"
   ]
  },
  {
   "cell_type": "code",
   "execution_count": 0,
   "metadata": {
    "application/vnd.databricks.v1+cell": {
     "cellMetadata": {
      "byteLimit": 2048000,
      "rowLimit": 10000
     },
     "inputWidgets": {},
     "nuid": "b4d74eb3-67a0-4792-8369-228a746f7100",
     "showTitle": false,
     "tableResultSettingsMap": {},
     "title": ""
    }
   },
   "outputs": [],
   "source": [
    "from pyspark.sql.functions import mean\n",
    "\n",
    "mean_values = products_df.select([\n",
    "    mean('Product_Rating').alias('mean_Product_Rating'),\n",
    "    mean('Number_of_product_ratings').alias('mean_Number_of_product_ratings'),\n",
    "    mean('Discounted_Price').alias('mean_Discounted_Price'),\n",
    "    mean('Actual_Price').alias('mean_Actual_Price')\n",
    "]).collect()[0]\n",
    "\n",
    "products_df = products_df.fillna({\n",
    "    'Product_Rating': mean_values['mean_Product_Rating'],\n",
    "    'Number_of_product_ratings': mean_values['mean_Number_of_product_ratings'],\n",
    "    'Discounted_Price': mean_values['mean_Discounted_Price'],\n",
    "    'Actual_Price': mean_values['mean_Actual_Price']\n",
    "})"
   ]
  },
  {
   "cell_type": "code",
   "execution_count": 0,
   "metadata": {
    "application/vnd.databricks.v1+cell": {
     "cellMetadata": {
      "byteLimit": 2048000,
      "rowLimit": 10000
     },
     "inputWidgets": {},
     "nuid": "2333ae46-d7e8-4af3-96d5-94c8eb7253b0",
     "showTitle": false,
     "tableResultSettingsMap": {},
     "title": ""
    }
   },
   "outputs": [],
   "source": [
    "# in payment table full zero where there is null in GiftCardAmount & discountAMount\n",
    "payments_df = payments_df.fillna({\n",
    "    'GiftCardAmount': 0,\n",
    "    'CouponAmount': 0\n",
    "})"
   ]
  },
  {
   "cell_type": "code",
   "execution_count": 0,
   "metadata": {
    "application/vnd.databricks.v1+cell": {
     "cellMetadata": {
      "byteLimit": 2048000,
      "rowLimit": 10000
     },
     "inputWidgets": {},
     "nuid": "308b9c9f-9060-45df-bf27-dfdf7b4ab432",
     "showTitle": false,
     "tableResultSettingsMap": {},
     "title": ""
    }
   },
   "outputs": [],
   "source": [
    "for df_name in ['addresses_df', 'customers_df', 'orders_df', 'orders_items_df', 'payment_methods_df', 'payments_df', 'products_df', 'returns_df', 'shipping_tier_df', 'suppliers_df']:\n",
    "    df = globals()[df_name]\n",
    "    display(\n",
    "        df.select([\n",
    "            df[c].isNull().cast(\"int\").alias(c)\n",
    "            for c in df.columns\n",
    "        ]).groupBy().sum()\n",
    "    )"
   ]
  },
  {
   "cell_type": "code",
   "execution_count": 0,
   "metadata": {
    "application/vnd.databricks.v1+cell": {
     "cellMetadata": {
      "byteLimit": 2048000,
      "rowLimit": 10000
     },
     "inputWidgets": {},
     "nuid": "c0743b8f-5cfa-4b3c-9631-1413a0208c01",
     "showTitle": false,
     "tableResultSettingsMap": {
      "0": {
       "dataGridStateBlob": "{\"version\":1,\"tableState\":{\"columnPinning\":{\"left\":[\"#row_number#\"],\"right\":[]},\"columnSizing\":{},\"columnVisibility\":{}},\"settings\":{\"columns\":{}},\"syncTimestamp\":1755503743793}",
       "filterBlob": null,
       "queryPlanFiltersBlob": null,
       "tableResultIndex": 0
      }
     },
     "title": ""
    }
   },
   "outputs": [],
   "source": [
    "# display the dupplicates values in each column\n",
    "for df_name in ['addresses_df', 'customers_df', 'orders_df', 'orders_items_df', 'payment_methods_df', 'payments_df', 'products_df', 'returns_df', 'shipping_tier_df', 'suppliers_df']:\n",
    "    df = globals()[df_name]\n",
    "    pk = df.columns[0]\n",
    "    display(\n",
    "        df.groupBy(pk).count().where('count > 1').orderBy('count', ascending=False)\n",
    "    )"
   ]
  },
  {
   "cell_type": "code",
   "execution_count": 0,
   "metadata": {
    "application/vnd.databricks.v1+cell": {
     "cellMetadata": {
      "byteLimit": 2048000,
      "rowLimit": 10000
     },
     "inputWidgets": {},
     "nuid": "ae2458cb-3ec4-47ac-a4fa-2a53e8c1b7b1",
     "showTitle": false,
     "tableResultSettingsMap": {},
     "title": ""
    }
   },
   "outputs": [],
   "source": [
    "catalog_name = \"harshit_gupta_databricks_npmentorskool_onmicrosoft_com\""
   ]
  },
  {
   "cell_type": "code",
   "execution_count": 0,
   "metadata": {
    "application/vnd.databricks.v1+cell": {
     "cellMetadata": {
      "byteLimit": 2048000,
      "implicitDf": true,
      "rowLimit": 10000
     },
     "inputWidgets": {},
     "nuid": "8192c849-77ab-4d38-bd68-dedab43be393",
     "showTitle": false,
     "tableResultSettingsMap": {},
     "title": ""
    }
   },
   "outputs": [],
   "source": [
    "%sql\n",
    "-- create a schema for silver layer\n",
    "CREATE SCHEMA IF NOT EXISTS harshit_gupta_databricks_npmentorskool_onmicrosoft_com.gcs_silver;"
   ]
  },
  {
   "cell_type": "code",
   "execution_count": 0,
   "metadata": {
    "application/vnd.databricks.v1+cell": {
     "cellMetadata": {
      "byteLimit": 2048000,
      "implicitDf": true,
      "rowLimit": 10000
     },
     "inputWidgets": {},
     "nuid": "57e0dafb-c318-4785-95c7-91c5a6310c7e",
     "showTitle": false,
     "tableResultSettingsMap": {},
     "title": ""
    }
   },
   "outputs": [],
   "source": [
    "%sql\n",
    "CREATE TABLE IF NOT EXISTS harshit_gupta_databricks_npmentorskool_onmicrosoft_com.gcs_silver.addresses(\n",
    "    AddressID STRING PRIMARY KEY,\n",
    "    CustomerID STRING,\n",
    "    AddressLine1 STRING,\n",
    "    City STRING,\n",
    "    State STRING,\n",
    "    PinCode DOUBLE,\n",
    "    AddressType STRING\n",
    ")"
   ]
  },
  {
   "cell_type": "code",
   "execution_count": 0,
   "metadata": {
    "application/vnd.databricks.v1+cell": {
     "cellMetadata": {
      "byteLimit": 2048000,
      "implicitDf": true,
      "rowLimit": 10000
     },
     "inputWidgets": {},
     "nuid": "1d53bddd-4ef8-4944-a245-cdd8d6d1993f",
     "showTitle": false,
     "tableResultSettingsMap": {},
     "title": ""
    }
   },
   "outputs": [],
   "source": [
    "%sql\n",
    "CREATE TABLE IF NOT EXISTS harshit_gupta_databricks_npmentorskool_onmicrosoft_com.gcs_silver.customers (\n",
    "    CustomerID STRING PRIMARY KEY,\n",
    "    FirstName STRING,\n",
    "    LastName STRING,\n",
    "    Email STRING,\n",
    "    PhoneNumber BIGINT,\n",
    "    DateOfBirth DATE,\n",
    "    RegistrationDate DATE,\n",
    "    PreferredPaymentMethodID STRING\n",
    ");\n"
   ]
  },
  {
   "cell_type": "code",
   "execution_count": 0,
   "metadata": {
    "application/vnd.databricks.v1+cell": {
     "cellMetadata": {
      "byteLimit": 2048000,
      "implicitDf": true,
      "rowLimit": 10000
     },
     "inputWidgets": {},
     "nuid": "f8a9b185-08d5-43ba-a348-92bc80867a72",
     "showTitle": false,
     "tableResultSettingsMap": {},
     "title": ""
    }
   },
   "outputs": [],
   "source": [
    "%sql\n",
    "ALTER TABLE harshit_gupta_databricks_npmentorskool_onmicrosoft_com.gcs_silver.addresses\n",
    "ADD CONSTRAINT fk_customer FOREIGN KEY (CustomerID) REFERENCES harshit_gupta_databricks_npmentorskool_onmicrosoft_com.gcs_silver.customers(CustomerID);\n"
   ]
  },
  {
   "cell_type": "code",
   "execution_count": 0,
   "metadata": {
    "application/vnd.databricks.v1+cell": {
     "cellMetadata": {
      "byteLimit": 2048000,
      "rowLimit": 10000
     },
     "inputWidgets": {},
     "nuid": "d8b83995-490d-4545-b5a3-d89e05fb73f7",
     "showTitle": false,
     "tableResultSettingsMap": {},
     "title": ""
    }
   },
   "outputs": [],
   "source": [
    "# I want to convert the OrderDate & ShippingDate in dateand time Format with HH:mm:ss\n",
    "orders_df = orders_df.withColumn('OrderDate', orders_df['OrderDate'].cast('date'))\n",
    "orders_df = orders_df.withColumn('ShippingDate', orders_df['ShippingDate'].cast('date'))\n",
    "orders_df = orders_df.withColumn('ExpectedDeliveryDate', orders_df['ExpectedDeliveryDate'].cast('date'))\n",
    "orders_df = orders_df.withColumn('ActualDeliveryDate', orders_df['ActualDeliveryDate'].cast('date'))\n",
    "display(orders_df)"
   ]
  },
  {
   "cell_type": "code",
   "execution_count": 0,
   "metadata": {
    "application/vnd.databricks.v1+cell": {
     "cellMetadata": {
      "byteLimit": 2048000,
      "implicitDf": true,
      "rowLimit": 10000
     },
     "inputWidgets": {},
     "nuid": "2b53f09d-8b39-4fed-b529-c281a3e54935",
     "showTitle": false,
     "tableResultSettingsMap": {},
     "title": ""
    }
   },
   "outputs": [],
   "source": [
    "%sql\n",
    "CREATE TABLE IF NOT EXISTS harshit_gupta_databricks_npmentorskool_onmicrosoft_com.gcs_silver.orders (\n",
    "    OrderID STRING PRIMARY KEY,\n",
    "    CustomerID STRING,\n",
    "    OrderDate DATE,\n",
    "    ShippingDate DATE,\n",
    "    ExpectedDeliveryDate DATE,\n",
    "    ActualDeliveryDate DATE,\n",
    "    ShippingTierID STRING,\n",
    "    SupplierID STRING,\n",
    "    OrderChannel STRING\n",
    ");\n"
   ]
  },
  {
   "cell_type": "code",
   "execution_count": 0,
   "metadata": {
    "application/vnd.databricks.v1+cell": {
     "cellMetadata": {
      "byteLimit": 2048000,
      "implicitDf": true,
      "rowLimit": 10000
     },
     "inputWidgets": {},
     "nuid": "d8fd948a-78a5-4dc6-a226-9a923f2a33d8",
     "showTitle": false,
     "tableResultSettingsMap": {},
     "title": ""
    }
   },
   "outputs": [],
   "source": [
    "%sql\n",
    "CREATE TABLE IF NOT EXISTS harshit_gupta_databricks_npmentorskool_onmicrosoft_com.gcs_silver.order_items (\n",
    "    OrderItemID STRING PRIMARY KEY,\n",
    "    OrderID STRING,\n",
    "    ProductID STRING,\n",
    "    Quantity INT\n",
    "    -- Foreign key constraints can be added later as needed\n",
    ");"
   ]
  },
  {
   "cell_type": "code",
   "execution_count": 0,
   "metadata": {
    "application/vnd.databricks.v1+cell": {
     "cellMetadata": {
      "byteLimit": 2048000,
      "implicitDf": true,
      "rowLimit": 10000
     },
     "inputWidgets": {},
     "nuid": "205a80fe-d6b7-4f24-be64-ebd97750e248",
     "showTitle": false,
     "tableResultSettingsMap": {},
     "title": ""
    }
   },
   "outputs": [],
   "source": [
    "%sql\n",
    "CREATE TABLE IF NOT EXISTS harshit_gupta_databricks_npmentorskool_onmicrosoft_com.gcs_silver.payment_methods (\n",
    "    PaymentMethodID STRING PRIMARY KEY,\n",
    "    MethodName STRING\n",
    ");"
   ]
  },
  {
   "cell_type": "code",
   "execution_count": 0,
   "metadata": {
    "application/vnd.databricks.v1+cell": {
     "cellMetadata": {
      "byteLimit": 2048000,
      "rowLimit": 10000
     },
     "inputWidgets": {},
     "nuid": "7957cf10-0dfc-4007-9398-0031da23dbbe",
     "showTitle": false,
     "tableResultSettingsMap": {},
     "title": ""
    }
   },
   "outputs": [],
   "source": [
    "payments_df = payments_df.withColumn('PaymentDate', payments_df['PaymentDate'].cast('date'))\n",
    "display(payments_df)"
   ]
  },
  {
   "cell_type": "code",
   "execution_count": 0,
   "metadata": {
    "application/vnd.databricks.v1+cell": {
     "cellMetadata": {
      "byteLimit": 2048000,
      "implicitDf": true,
      "rowLimit": 10000
     },
     "inputWidgets": {},
     "nuid": "e457c02c-5c86-4020-81cf-db7c003178bf",
     "showTitle": false,
     "tableResultSettingsMap": {},
     "title": ""
    }
   },
   "outputs": [],
   "source": [
    "%sql\n",
    "CREATE TABLE IF NOT EXISTS harshit_gupta_databricks_npmentorskool_onmicrosoft_com.gcs_silver.payments (\n",
    "    PaymentID STRING PRIMARY KEY,\n",
    "    OrderID STRING,\n",
    "    PaymentDate DATE,\n",
    "    GiftCardUsage STRING,\n",
    "    GiftCardAmount DOUBLE,\n",
    "    CouponUsage STRING,\n",
    "    CouponAmount DOUBLE,\n",
    "    PaymentMethodID STRING\n",
    "    -- Foreign key constraints can be added later as needed\n",
    ");\n"
   ]
  },
  {
   "cell_type": "code",
   "execution_count": 0,
   "metadata": {
    "application/vnd.databricks.v1+cell": {
     "cellMetadata": {
      "byteLimit": 2048000,
      "rowLimit": 10000
     },
     "inputWidgets": {},
     "nuid": "d1f98605-09f7-4cd0-b57e-9ee1aac7663c",
     "showTitle": false,
     "tableResultSettingsMap": {},
     "title": ""
    }
   },
   "outputs": [],
   "source": [
    "# I want to convert product rating & number of product rating into float\n",
    "products_df = products_df.withColumn('Product_Rating', products_df['Product_Rating'].cast('float'))\n",
    "products_df = products_df.withColumn('Number_of_product_ratings', products_df['Number_of_product_ratings'].cast('float'))\n",
    "\n",
    "# I want to convert discounted price & actual price into double removing commas and the rupee sign \n",
    "products_df = products_df.withColumn('Discounted_Price', regexp_replace('Discounted_Price', '[,₹]', '').cast('double'))\n",
    "products_df = products_df.withColumn('Actual_Price', regexp_replace('Actual_Price', '[,₹]', '').cast('double'))\n",
    "\n",
    "display(products_df)"
   ]
  },
  {
   "cell_type": "code",
   "execution_count": 0,
   "metadata": {
    "application/vnd.databricks.v1+cell": {
     "cellMetadata": {
      "byteLimit": 2048000,
      "implicitDf": true,
      "rowLimit": 10000
     },
     "inputWidgets": {},
     "nuid": "14678032-ad90-46c1-8b49-7927cdfddd3c",
     "showTitle": false,
     "tableResultSettingsMap": {},
     "title": ""
    }
   },
   "outputs": [],
   "source": [
    "%sql\n",
    "CREATE TABLE IF NOT EXISTS harshit_gupta_databricks_npmentorskool_onmicrosoft_com.gcs_silver.products (\n",
    "    Product_ID STRING PRIMARY KEY,\n",
    "    Product_Name STRING,\n",
    "    Product_Category STRING,\n",
    "    Product_Sub_Category STRING,\n",
    "    Product_Rating FLOAT,\n",
    "    Number_of_product_ratings FLOAT,\n",
    "    Discounted_Price DOUBLE,\n",
    "    Actual_Price DOUBLE\n",
    ");\n"
   ]
  },
  {
   "cell_type": "code",
   "execution_count": 0,
   "metadata": {
    "application/vnd.databricks.v1+cell": {
     "cellMetadata": {
      "byteLimit": 2048000,
      "implicitDf": true,
      "rowLimit": 10000
     },
     "inputWidgets": {},
     "nuid": "4670a4d9-21c1-4421-925a-524121c63579",
     "showTitle": false,
     "tableResultSettingsMap": {},
     "title": ""
    }
   },
   "outputs": [],
   "source": [
    "%sql\n",
    "CREATE TABLE IF NOT EXISTS harshit_gupta_databricks_npmentorskool_onmicrosoft_com.gcs_silver.returns (\n",
    "    OrderID STRING,\n",
    "    Return_reason STRING\n",
    "    -- You can add a primary key or additional columns as needed\n",
    ");"
   ]
  },
  {
   "cell_type": "code",
   "execution_count": 0,
   "metadata": {
    "application/vnd.databricks.v1+cell": {
     "cellMetadata": {
      "byteLimit": 2048000,
      "implicitDf": true,
      "rowLimit": 10000
     },
     "inputWidgets": {},
     "nuid": "39620b09-1662-47e4-b782-506ed4df2364",
     "showTitle": false,
     "tableResultSettingsMap": {},
     "title": ""
    }
   },
   "outputs": [],
   "source": [
    "%sql\n",
    "CREATE TABLE IF NOT EXISTS harshit_gupta_databricks_npmentorskool_onmicrosoft_com.gcs_silver.shipping_tier(\n",
    "    ShippingTierID STRING PRIMARY KEY,\n",
    "    TierName STRING,\n",
    "    Cost_Rs INT\n",
    ");\n",
    "    \n",
    "CREATE TABLE IF NOT EXISTS harshit_gupta_databricks_npmentorskool_onmicrosoft_com.gcs_silver.suppliers(\n",
    "    SupplierID STRING PRIMARY KEY,\n",
    "    SupplierName STRING,\n",
    "    SupplierEmail STRING,\n",
    "    City STRING\n",
    ");"
   ]
  },
  {
   "cell_type": "code",
   "execution_count": 0,
   "metadata": {
    "application/vnd.databricks.v1+cell": {
     "cellMetadata": {
      "byteLimit": 2048000,
      "implicitDf": true,
      "rowLimit": 10000
     },
     "inputWidgets": {},
     "nuid": "c44472b5-51a8-4a20-84d5-8b30e93d56d1",
     "showTitle": false,
     "tableResultSettingsMap": {},
     "title": ""
    }
   },
   "outputs": [],
   "source": [
    "%sql\n",
    "ALTER TABLE harshit_gupta_databricks_npmentorskool_onmicrosoft_com.gcs_silver.customers\n",
    "ADD CONSTRAINT fk_payment_method FOREIGN KEY (PreferredPaymentMethodID) REFERENCES harshit_gupta_databricks_npmentorskool_onmicrosoft_com.gcs_silver.payment_methods(PaymentMethodID);"
   ]
  },
  {
   "cell_type": "code",
   "execution_count": 0,
   "metadata": {
    "application/vnd.databricks.v1+cell": {
     "cellMetadata": {
      "byteLimit": 2048000,
      "implicitDf": true,
      "rowLimit": 10000
     },
     "inputWidgets": {},
     "nuid": "b3553029-e8e3-401c-ae8b-fe3d57dc2cbd",
     "showTitle": false,
     "tableResultSettingsMap": {},
     "title": ""
    }
   },
   "outputs": [],
   "source": [
    "%sql\n",
    "ALTER TABLE harshit_gupta_databricks_npmentorskool_onmicrosoft_com.gcs_silver.orders\n",
    "ADD CONSTRAINT fk_customer_order FOREIGN KEY (CustomerID) REFERENCES harshit_gupta_databricks_npmentorskool_onmicrosoft_com.gcs_silver.customers(CustomerID);\n",
    "\n",
    "ALTER TABLE harshit_gupta_databricks_npmentorskool_onmicrosoft_com.gcs_silver.orders\n",
    "ADD CONSTRAINT fk_shipping_tier FOREIGN KEY (ShippingTierID) REFERENCES harshit_gupta_databricks_npmentorskool_onmicrosoft_com.gcs_silver.shipping_tier(ShippingTierID);\n",
    "\n",
    "ALTER TABLE harshit_gupta_databricks_npmentorskool_onmicrosoft_com.gcs_silver.orders\n",
    "ADD CONSTRAINT fk_supplier FOREIGN KEY (SupplierID) REFERENCES harshit_gupta_databricks_npmentorskool_onmicrosoft_com.gcs_silver.suppliers(SupplierID);"
   ]
  },
  {
   "cell_type": "code",
   "execution_count": 0,
   "metadata": {
    "application/vnd.databricks.v1+cell": {
     "cellMetadata": {
      "byteLimit": 2048000,
      "implicitDf": true,
      "rowLimit": 10000
     },
     "inputWidgets": {},
     "nuid": "740370eb-3bc4-4e96-9d47-c5aeb365002a",
     "showTitle": false,
     "tableResultSettingsMap": {},
     "title": ""
    }
   },
   "outputs": [],
   "source": [
    "%sql\n",
    "ALTER TABLE harshit_gupta_databricks_npmentorskool_onmicrosoft_com.gcs_silver.payments\n",
    "ADD CONSTRAINT fk_order_payment FOREIGN KEY (OrderID) REFERENCES harshit_gupta_databricks_npmentorskool_onmicrosoft_com.gcs_silver.orders(OrderID);\n",
    "\n",
    "ALTER TABLE harshit_gupta_databricks_npmentorskool_onmicrosoft_com.gcs_silver.payments\n",
    "ADD CONSTRAINT fk_payment_method_order FOREIGN KEY (PaymentMethodID) REFERENCES harshit_gupta_databricks_npmentorskool_onmicrosoft_com.gcs_silver.payment_methods(PaymentMethodID);"
   ]
  },
  {
   "cell_type": "code",
   "execution_count": 0,
   "metadata": {
    "application/vnd.databricks.v1+cell": {
     "cellMetadata": {
      "byteLimit": 2048000,
      "implicitDf": true,
      "rowLimit": 10000
     },
     "inputWidgets": {},
     "nuid": "f27f9e3e-fa26-48fe-a857-a5e0482a35dc",
     "showTitle": false,
     "tableResultSettingsMap": {},
     "title": ""
    }
   },
   "outputs": [],
   "source": [
    "%sql\n",
    "ALTER TABLE harshit_gupta_databricks_npmentorskool_onmicrosoft_com.gcs_silver.returns\n",
    "ADD CONSTRAINT fk_returns FOREIGN KEY (OrderID) REFERENCES harshit_gupta_databricks_npmentorskool_onmicrosoft_com.gcs_silver.orders(OrderID);"
   ]
  },
  {
   "cell_type": "code",
   "execution_count": 0,
   "metadata": {
    "application/vnd.databricks.v1+cell": {
     "cellMetadata": {
      "byteLimit": 2048000,
      "implicitDf": true,
      "rowLimit": 10000
     },
     "inputWidgets": {},
     "nuid": "7253a0be-90fe-4df3-95a4-9a661630a6df",
     "showTitle": false,
     "tableResultSettingsMap": {},
     "title": ""
    }
   },
   "outputs": [],
   "source": [
    "%sql\n",
    "ALTER TABLE harshit_gupta_databricks_npmentorskool_onmicrosoft_com.gcs_silver.order_items\n",
    "ADD CONSTRAINT fk_order_items_order FOREIGN KEY (OrderID) REFERENCES harshit_gupta_databricks_npmentorskool_onmicrosoft_com.gcs_silver.orders(OrderID);\n",
    "\n",
    "ALTER TABLE harshit_gupta_databricks_npmentorskool_onmicrosoft_com.gcs_silver.order_items\n",
    "ADD CONSTRAINT fk_order_items_product FOREIGN KEY (ProductID) REFERENCES harshit_gupta_databricks_npmentorskool_onmicrosoft_com.gcs_silver.products(Product_ID);"
   ]
  },
  {
   "cell_type": "code",
   "execution_count": 0,
   "metadata": {
    "application/vnd.databricks.v1+cell": {
     "cellMetadata": {
      "byteLimit": 2048000,
      "rowLimit": 10000
     },
     "inputWidgets": {},
     "nuid": "c472ff40-cfda-4750-8cbe-5ad8ebf37f02",
     "showTitle": false,
     "tableResultSettingsMap": {},
     "title": ""
    }
   },
   "outputs": [],
   "source": [
    "#load the data into harshit_gupta_databricks_npmentorskool_onmicrosoft_com.gcs_silver.{table} from {table}_df\n",
    "for row in tables_df.collect():\n",
    "    table_name = row['tableName']\n",
    "    df_name = table_name + '_df'\n",
    "    if table_name == 'orders_items':\n",
    "        table_name = 'order_items'\n",
    "    globals()[df_name].write.mode('overwrite').format('delta').insertInto(f'harshit_gupta_databricks_npmentorskool_onmicrosoft_com.gcs_silver.{table_name}')"
   ]
  },
  {
   "cell_type": "code",
   "execution_count": 0,
   "metadata": {
    "application/vnd.databricks.v1+cell": {
     "cellMetadata": {
      "byteLimit": 2048000,
      "rowLimit": 10000
     },
     "inputWidgets": {},
     "nuid": "3d9a3d15-83a3-4966-9140-85c0e88a5e46",
     "showTitle": false,
     "tableResultSettingsMap": {},
     "title": ""
    }
   },
   "outputs": [],
   "source": [
    "for row in tables_df.collect():\n",
    "    table_name = row['tableName']\n",
    "    if table_name == 'orders_items':\n",
    "        table_name = 'order_items'\n",
    "    spark.sql(f\"ALTER TABLE harshit_gupta_databricks_npmentorskool_onmicrosoft_com.gcs_silver.{table_name} SET TBLPROPERTIES (delta.enableChangeDataFeed = true)\")"
   ]
  }
 ],
 "metadata": {
  "application/vnd.databricks.v1+notebook": {
   "computePreferences": null,
   "dashboards": [],
   "environmentMetadata": {
    "base_environment": "",
    "environment_version": "2"
   },
   "inputWidgetPreferences": null,
   "language": "python",
   "notebookMetadata": {
    "mostRecentlyExecutedCommandWithImplicitDF": {
     "commandId": 8942903988868272,
     "dataframes": [
      "_sqldf"
     ]
    },
    "pythonIndentUnit": 4
   },
   "notebookName": "Create Silver Layer",
   "widgets": {}
  },
  "language_info": {
   "name": "python"
  }
 },
 "nbformat": 4,
 "nbformat_minor": 0
}
