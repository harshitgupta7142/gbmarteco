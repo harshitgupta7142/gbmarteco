{
 "cells": [
  {
   "cell_type": "code",
   "execution_count": 0,
   "metadata": {
    "application/vnd.databricks.v1+cell": {
     "cellMetadata": {
      "byteLimit": 2048000,
      "rowLimit": 10000
     },
     "inputWidgets": {},
     "nuid": "e2acc909-57e0-442b-b40a-447b336e266b",
     "showTitle": false,
     "tableResultSettingsMap": {
      "0": {
       "dataGridStateBlob": "{\"version\":1,\"tableState\":{\"columnPinning\":{\"left\":[\"#row_number#\"],\"right\":[]},\"columnSizing\":{},\"columnVisibility\":{}},\"settings\":{\"columns\":{}},\"syncTimestamp\":1755019758085}",
       "filterBlob": null,
       "queryPlanFiltersBlob": null,
       "tableResultIndex": 0
      }
     },
     "title": ""
    }
   },
   "outputs": [],
   "source": [
    "catlog_name = 'harshit_gupta_databricks_npmentorskool_onmicrosoft_com'\n",
    "schema_name = 'gbmartecoschema'\n",
    "mount_point = \"/mnt/mskltestmnt2643\"\n",
    "\n",
    "files = dbutils.fs.ls(mount_point)\n",
    "display(files)"
   ]
  },
  {
   "cell_type": "code",
   "execution_count": 0,
   "metadata": {
    "application/vnd.databricks.v1+cell": {
     "cellMetadata": {
      "byteLimit": 2048000,
      "rowLimit": 10000
     },
     "inputWidgets": {},
     "nuid": "b3ea438a-4e9a-4b62-92b3-3c41f685c6db",
     "showTitle": false,
     "tableResultSettingsMap": {},
     "title": ""
    }
   },
   "outputs": [],
   "source": [
    "#create a list of all the tables name\n",
    "tables = []\n",
    "\n",
    "for file in files:\n",
    "    file_name = file.name.split('.')[0]\n",
    "    tables.append(file_name)\n",
    "print(tables)"
   ]
  },
  {
   "cell_type": "code",
   "execution_count": 0,
   "metadata": {
    "application/vnd.databricks.v1+cell": {
     "cellMetadata": {
      "byteLimit": 2048000,
      "rowLimit": 10000
     },
     "inputWidgets": {},
     "nuid": "1e8ad914-fc04-48f6-b6c4-98829fe5cb70",
     "showTitle": false,
     "tableResultSettingsMap": {},
     "title": ""
    }
   },
   "outputs": [],
   "source": [
    "# create the schema\n",
    "spark.sql(f\"CREATE SCHEMA IF NOT EXISTS {catlog_name}.{schema_name}\")"
   ]
  },
  {
   "cell_type": "code",
   "execution_count": 0,
   "metadata": {
    "application/vnd.databricks.v1+cell": {
     "cellMetadata": {
      "byteLimit": 2048000,
      "rowLimit": 10000
     },
     "inputWidgets": {},
     "nuid": "07f7c1aa-5b52-4fed-b62a-a590dfade06a",
     "showTitle": false,
     "tableResultSettingsMap": {},
     "title": ""
    }
   },
   "outputs": [],
   "source": [
    "# create the tables\n",
    "for table in tables:\n",
    "    spark.sql(f\"CREATE TABLE IF NOT EXISTS {catlog_name}.{schema_name}.{table}\")"
   ]
  },
  {
   "cell_type": "code",
   "execution_count": 0,
   "metadata": {
    "application/vnd.databricks.v1+cell": {
     "cellMetadata": {},
     "inputWidgets": {},
     "nuid": "f8677dd7-4bc0-4d4b-b7a7-b2982f0f5c20",
     "showTitle": false,
     "tableResultSettingsMap": {},
     "title": ""
    }
   },
   "outputs": [],
   "source": [
    "%sql\n",
    "show tables in harshit_gupta_databricks_npmentorskool_onmicrosoft_com.gbmartecoschema"
   ]
  },
  {
   "cell_type": "code",
   "execution_count": 0,
   "metadata": {
    "application/vnd.databricks.v1+cell": {
     "cellMetadata": {
      "byteLimit": 2048000,
      "rowLimit": 10000
     },
     "inputWidgets": {},
     "nuid": "7836261e-b3b0-420f-9a24-7f1cc4830ed8",
     "showTitle": false,
     "tableResultSettingsMap": {},
     "title": ""
    }
   },
   "outputs": [],
   "source": [
    "# Enable column mapping\n",
    "spark.sql(\"SET spark.databricks.delta.columnMapping.mode = name\")\n",
    "spark.sql(\"SET spark.databricks.delta.schema.autoMerge.enabled = true\")\n",
    "\n",
    "# Now we want to load the data into tables by copy into the tables\n",
    "for table in tables:\n",
    "    spark.sql(f\"\"\"\n",
    "        COPY INTO {catlog_name}.{schema_name}.{table}\n",
    "        FROM '{mount_point}/{table}.csv'\n",
    "        FILEFORMAT = CSV\n",
    "        FORMAT_OPTIONS (\n",
    "            'header' = 'true',\n",
    "            'inferSchema' = 'true',\n",
    "            'timestampFormat' = 'dd-MM-yyyy HH.mm',\n",
    "            'multiline' = 'true',\n",
    "            'escape' = '\"',\n",
    "            'quote' = '\"',\n",
    "            'mergeSchema' = 'true'\n",
    "        )\n",
    "        COPY_OPTIONS ('mergeSchema' = 'true')\n",
    "    \"\"\")"
   ]
  },
  {
   "cell_type": "code",
   "execution_count": 0,
   "metadata": {
    "application/vnd.databricks.v1+cell": {
     "cellMetadata": {
      "byteLimit": 2048000,
      "rowLimit": 10000
     },
     "inputWidgets": {},
     "nuid": "2ef68591-9818-403e-a7de-cb52ecfceb4d",
     "showTitle": false,
     "tableResultSettingsMap": {},
     "title": ""
    }
   },
   "outputs": [],
   "source": [
    "# fetch the data from addresses table\n",
    "addresses = spark.sql(f\"SELECT * FROM {catlog_name}.{schema_name}.addresses\")\n",
    "display(addresses)"
   ]
  },
  {
   "cell_type": "code",
   "execution_count": 0,
   "metadata": {
    "application/vnd.databricks.v1+cell": {
     "cellMetadata": {
      "byteLimit": 2048000,
      "rowLimit": 10000
     },
     "inputWidgets": {},
     "nuid": "ce68c89d-9b9d-43a7-9ed3-66be89d5d680",
     "showTitle": false,
     "tableResultSettingsMap": {},
     "title": ""
    }
   },
   "outputs": [],
   "source": [
    "customers = spark.sql(f\"SELECT * FROM {catlog_name}.{schema_name}.customers\")\n",
    "display(customers)"
   ]
  },
  {
   "cell_type": "code",
   "execution_count": 0,
   "metadata": {
    "application/vnd.databricks.v1+cell": {
     "cellMetadata": {
      "byteLimit": 2048000,
      "implicitDf": true,
      "rowLimit": 10000
     },
     "inputWidgets": {},
     "nuid": "deb6384e-895a-4079-9ef1-f52e22eb6f8e",
     "showTitle": false,
     "tableResultSettingsMap": {},
     "title": ""
    }
   },
   "outputs": [],
   "source": [
    "%sql\n",
    "ALTER TABLE harshit_gupta_databricks_npmentorskool_onmicrosoft_com.gbmartecoschema.orders SET TBLPROPERTIES (delta.enableChangeDataFeed = true)"
   ]
  },
  {
   "cell_type": "code",
   "execution_count": 0,
   "metadata": {
    "application/vnd.databricks.v1+cell": {
     "cellMetadata": {},
     "inputWidgets": {},
     "nuid": "c023cf6c-a672-4db8-a960-d6b4f0685803",
     "showTitle": false,
     "tableResultSettingsMap": {},
     "title": ""
    }
   },
   "outputs": [],
   "source": []
  }
 ],
 "metadata": {
  "application/vnd.databricks.v1+notebook": {
   "computePreferences": null,
   "dashboards": [],
   "environmentMetadata": {
    "base_environment": "",
    "environment_version": "2"
   },
   "inputWidgetPreferences": null,
   "language": "python",
   "notebookMetadata": {
    "mostRecentlyExecutedCommandWithImplicitDF": {
     "commandId": 5178569651818617,
     "dataframes": [
      "_sqldf"
     ]
    },
    "pythonIndentUnit": 4
   },
   "notebookName": "Create_bronze_layer",
   "widgets": {}
  },
  "language_info": {
   "name": "python"
  }
 },
 "nbformat": 4,
 "nbformat_minor": 0
}
